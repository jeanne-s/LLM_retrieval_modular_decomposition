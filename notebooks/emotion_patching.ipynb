{
 "cells": [
  {
   "cell_type": "code",
   "execution_count": 1,
   "metadata": {},
   "outputs": [
    {
     "name": "stderr",
     "output_type": "stream",
     "text": [
      "/home/jsalle/.conda/envs/athena_venv/lib/python3.9/site-packages/tqdm/auto.py:21: TqdmWarning: IProgress not found. Please update jupyter and ipywidgets. See https://ipywidgets.readthedocs.io/en/stable/user_install.html\n",
      "  from .autonotebook import tqdm as notebook_tqdm\n"
     ]
    },
    {
     "name": "stdout",
     "output_type": "stream",
     "text": [
      "device = cpu\n",
      "CUDA is not available. Listing CPUs instead.\n",
      "48\n"
     ]
    }
   ],
   "source": [
    "import torch\n",
    "import torch.nn as nn\n",
    "from torch import Tensor\n",
    "from transformers import GPTNeoXForCausalLM, AutoTokenizer, AutoModelForCausalLM\n",
    "from jaxtyping import Float, Int\n",
    "from typing import List, Optional, Tuple, Dict\n",
    "import sys\n",
    "from functools import partial\n",
    "from tqdm import tqdm\n",
    "import json\n",
    "import seaborn as sns\n",
    "import pandas as pd\n",
    "import multiprocessing\n",
    "import pickle\n",
    "\n",
    "from request_patching import request_patch_one_pair, create_patch_request_dict, baseline_completion, baseline_completion_plus\n",
    "from models import get_model_from_name\n",
    "\n",
    "import warnings\n",
    "warnings.filterwarnings(\"ignore\")\n",
    "\n",
    "device = torch.device(\"cuda:0\" if torch.cuda.is_available() else \"cpu\")\n",
    "print('device =', device)\n",
    "torch.set_grad_enabled(False)\n",
    "\n",
    "if torch.cuda.is_available():\n",
    "    for i in range(torch.cuda.device_count()):\n",
    "        print(f\"Device {i}: {torch.cuda.get_device_name(i)}\")\n",
    "    print(f\"Current CUDA device: {torch.cuda.current_device()}\")\n",
    "\n",
    "else:\n",
    "    print(\"CUDA is not available. Listing CPUs instead.\")\n",
    "    print(multiprocessing.cpu_count())"
   ]
  },
  {
   "cell_type": "code",
   "execution_count": 2,
   "metadata": {},
   "outputs": [
    {
     "name": "stdout",
     "output_type": "stream",
     "text": [
      "Number of stories: 2\n"
     ]
    }
   ],
   "source": [
    "dict = create_patch_request_dict('gpt2-small',\n",
    "                                 dataset='dialogs_2')"
   ]
  },
  {
   "cell_type": "markdown",
   "metadata": {},
   "source": []
  },
  {
   "cell_type": "code",
   "execution_count": 3,
   "metadata": {},
   "outputs": [
    {
     "data": {
      "text/plain": [
       "{'pair_0': {'context_1': \"Alice: (Sighing with relief) I finally finished that massive project I've been working on for weeks. I was so stressed about meeting the deadline, but now that it's done, I feel like a huge weight has been lifted off my shoulders. Bob: (Anxiously) That's great for you, Alice. I wish I could say the same. I just found out I have to give a presentation next week, and public speaking terrifies me. I'm not sure how I'm going to get through it. Alice: (Encouragingly) Oh, Bob, I know how daunting that can feel. But remember the last time you were nervous about presenting? You ended up doing a fantastic job. Everyone was impressed. Bob: (Still worried) Thanks, Alice. But it feels different this time. I keep imagining all the things that could go wrong. What if I freeze up or forget what to say? If I had to choose between 'angry', 'proud', and 'worried', I would say I felt '\",\n",
       "  'context_2': \"Alice: (Fuming) You won't believe the day I've had! My presentation got moved up to the first slot, and the projector wouldn't work. I had to wing the entire thing without any visuals. It was a disaster. Bob: That sounds rough, but guess what? My day was amazing! I finally presented my project to the team, and it was a hit. Everyone loved it, and the boss even mentioned a possible promotion. I couldn't have asked for a better outcome. Alice: Great, Bob. I'm glad one of us had a good day. It's just... when everything goes wrong for me, hearing how fantastic your day was doesn't really help. If I had to choose between 'angry', 'proud', and 'worried', I would say I felt '\",\n",
       "  'R1_C1': 'ang',\n",
       "  'R1_C2': 'ang',\n",
       "  'R2_C2': 'ang',\n",
       "  'patching_result': [\" '\",\n",
       "   \" '\",\n",
       "   'w',\n",
       "   'w',\n",
       "   'ang',\n",
       "   'ang',\n",
       "   'ang',\n",
       "   'ang',\n",
       "   'ang',\n",
       "   'ang',\n",
       "   'ang',\n",
       "   'ang']},\n",
       " 'pair_1': {'context_1': \"Alice: (Fuming) You won't believe the day I've had! My presentation got moved up to the first slot, and the projector wouldn't work. I had to wing the entire thing without any visuals. It was a disaster. Bob: That sounds rough, but guess what? My day was amazing! I finally presented my project to the team, and it was a hit. Everyone loved it, and the boss even mentioned a possible promotion. I couldn't have asked for a better outcome. Alice: Great, Bob. I'm glad one of us had a good day. It's just... when everything goes wrong for me, hearing how fantastic your day was doesn't really help. Bob: I'm sorry, but I was so satisfied! If I had to choose between 'proud', 'worried', and 'relieved', I would say I felt '\",\n",
       "  'context_2': \"Alice: (Sighing with relief) I finally finished that massive project I've been working on for weeks. I was so stressed about meeting the deadline, but now that it's done, I feel like a huge weight has been lifted off my shoulders. Bob: (Anxiously) That's great for you, Alice. I wish I could say the same. I just found out I have to give a presentation next week, and public speaking terrifies me. I'm not sure how I'm going to get through it. Alice: (Encouragingly) Oh, Bob, I know how daunting that can feel. But remember the last time you were nervous about presenting? You ended up doing a fantastic job. Everyone was impressed. Bob: (Still worried) Thanks, Alice. But it feels different this time. I keep imagining all the things that could go wrong. What if I freeze up or forget what to say? Alice: It's so nice that I made it and no longer have to worry! If I had to choose between 'proud', 'worried', and 'relieved', I would say I felt '\",\n",
       "  'R1_C1': 'happy',\n",
       "  'R1_C2': 'w',\n",
       "  'R2_C2': 'w',\n",
       "  'patching_result': ['w',\n",
       "   'w',\n",
       "   'good',\n",
       "   'more',\n",
       "   'more',\n",
       "   'more',\n",
       "   'more',\n",
       "   'happy',\n",
       "   'happy',\n",
       "   'happy',\n",
       "   'happy',\n",
       "   'happy']}}"
      ]
     },
     "execution_count": 3,
     "metadata": {},
     "output_type": "execute_result"
    }
   ],
   "source": [
    "dict"
   ]
  },
  {
   "cell_type": "code",
   "execution_count": 4,
   "metadata": {},
   "outputs": [
    {
     "name": "stderr",
     "output_type": "stream",
     "text": [
      "Special tokens have been added in the vocabulary, make sure the associated word embeddings are fine-tuned or trained.\n",
      "Asking to truncate to max_length but no maximum length is provided and the model has no predefined maximum length. Default to no truncation.\n"
     ]
    },
    {
     "name": "stdout",
     "output_type": "stream",
     "text": [
      "Number of stories: 2\n"
     ]
    }
   ],
   "source": [
    "dict = create_patch_request_dict('pythia-1b',\n",
    "                                 dataset='dialogs_2')"
   ]
  },
  {
   "cell_type": "code",
   "execution_count": 5,
   "metadata": {},
   "outputs": [
    {
     "data": {
      "text/plain": [
       "{'pair_0': {'context_1': \"Alice: (Sighing with relief) I finally finished that massive project I've been working on for weeks. I was so stressed about meeting the deadline, but now that it's done, I feel like a huge weight has been lifted off my shoulders. Bob: (Anxiously) That's great for you, Alice. I wish I could say the same. I just found out I have to give a presentation next week, and public speaking terrifies me. I'm not sure how I'm going to get through it. Alice: (Encouragingly) Oh, Bob, I know how daunting that can feel. But remember the last time you were nervous about presenting? You ended up doing a fantastic job. Everyone was impressed. Bob: (Still worried) Thanks, Alice. But it feels different this time. I keep imagining all the things that could go wrong. What if I freeze up or forget what to say? If I had to choose between 'proud', 'angry', and 'worried', I would say I felt '\",\n",
       "  'context_2': \"Alice: (Fuming) You won't believe the day I've had! My presentation got moved up to the first slot, and the projector wouldn't work. I had to wing the entire thing without any visuals. It was a disaster. Bob: That sounds rough, but guess what? My day was amazing! I finally presented my project to the team, and it was a hit. Everyone loved it, and the boss even mentioned a possible promotion. I couldn't have asked for a better outcome. Alice: Great, Bob. I'm glad one of us had a good day. It's just... when everything goes wrong for me, hearing how fantastic your day was doesn't really help. If I had to choose between 'proud', 'angry', and 'worried', I would say I felt '\",\n",
       "  'R1_C1': 'wor',\n",
       "  'R1_C2': 'wor',\n",
       "  'R2_C2': 'wor',\n",
       "  'patching_result': ['wor',\n",
       "   'wor',\n",
       "   'wor',\n",
       "   'wor',\n",
       "   'wor',\n",
       "   'wor',\n",
       "   'wor',\n",
       "   'wor',\n",
       "   'wor',\n",
       "   'wor',\n",
       "   'wor',\n",
       "   'wor',\n",
       "   'wor',\n",
       "   'wor',\n",
       "   'wor',\n",
       "   'wor']},\n",
       " 'pair_1': {'context_1': \"Alice: (Fuming) You won't believe the day I've had! My presentation got moved up to the first slot, and the projector wouldn't work. I had to wing the entire thing without any visuals. It was a disaster. Bob: That sounds rough, but guess what? My day was amazing! I finally presented my project to the team, and it was a hit. Everyone loved it, and the boss even mentioned a possible promotion. I couldn't have asked for a better outcome. Alice: Great, Bob. I'm glad one of us had a good day. It's just... when everything goes wrong for me, hearing how fantastic your day was doesn't really help. Bob: I'm sorry, but I was so satisfied! If I had to choose between 'worried', 'proud', and 'relieved', I would say I felt '\",\n",
       "  'context_2': \"Alice: (Sighing with relief) I finally finished that massive project I've been working on for weeks. I was so stressed about meeting the deadline, but now that it's done, I feel like a huge weight has been lifted off my shoulders. Bob: (Anxiously) That's great for you, Alice. I wish I could say the same. I just found out I have to give a presentation next week, and public speaking terrifies me. I'm not sure how I'm going to get through it. Alice: (Encouragingly) Oh, Bob, I know how daunting that can feel. But remember the last time you were nervous about presenting? You ended up doing a fantastic job. Everyone was impressed. Bob: (Still worried) Thanks, Alice. But it feels different this time. I keep imagining all the things that could go wrong. What if I freeze up or forget what to say? Alice: It's so nice that I made it and no longer have to worry! If I had to choose between 'worried', 'proud', and 'relieved', I would say I felt '\",\n",
       "  'R1_C1': 'rel',\n",
       "  'R1_C2': 'rel',\n",
       "  'R2_C2': 'rel',\n",
       "  'patching_result': ['rel',\n",
       "   'rel',\n",
       "   'rel',\n",
       "   'rel',\n",
       "   'rel',\n",
       "   'rel',\n",
       "   'rel',\n",
       "   'rel',\n",
       "   'rel',\n",
       "   'rel',\n",
       "   'rel',\n",
       "   'rel',\n",
       "   'rel',\n",
       "   'rel',\n",
       "   'rel',\n",
       "   'rel']}}"
      ]
     },
     "execution_count": 5,
     "metadata": {},
     "output_type": "execute_result"
    }
   ],
   "source": [
    "dict"
   ]
  },
  {
   "cell_type": "code",
   "execution_count": 6,
   "metadata": {},
   "outputs": [
    {
     "name": "stderr",
     "output_type": "stream",
     "text": [
      "Special tokens have been added in the vocabulary, make sure the associated word embeddings are fine-tuned or trained.\n",
      "Asking to truncate to max_length but no maximum length is provided and the model has no predefined maximum length. Default to no truncation.\n"
     ]
    },
    {
     "name": "stdout",
     "output_type": "stream",
     "text": [
      "Number of stories: 2\n"
     ]
    }
   ],
   "source": [
    "dict = create_patch_request_dict('pythia-2.8b',\n",
    "                                 dataset='dialogs_2')"
   ]
  },
  {
   "cell_type": "code",
   "execution_count": 7,
   "metadata": {},
   "outputs": [
    {
     "data": {
      "text/plain": [
       "{'pair_0': {'context_1': \"Alice: (Sighing with relief) I finally finished that massive project I've been working on for weeks. I was so stressed about meeting the deadline, but now that it's done, I feel like a huge weight has been lifted off my shoulders. Bob: (Anxiously) That's great for you, Alice. I wish I could say the same. I just found out I have to give a presentation next week, and public speaking terrifies me. I'm not sure how I'm going to get through it. Alice: (Encouragingly) Oh, Bob, I know how daunting that can feel. But remember the last time you were nervous about presenting? You ended up doing a fantastic job. Everyone was impressed. Bob: (Still worried) Thanks, Alice. But it feels different this time. I keep imagining all the things that could go wrong. What if I freeze up or forget what to say? If I had to choose between 'proud', 'angry', and 'worried', I would say I felt '\",\n",
       "  'context_2': \"Alice: (Fuming) You won't believe the day I've had! My presentation got moved up to the first slot, and the projector wouldn't work. I had to wing the entire thing without any visuals. It was a disaster. Bob: That sounds rough, but guess what? My day was amazing! I finally presented my project to the team, and it was a hit. Everyone loved it, and the boss even mentioned a possible promotion. I couldn't have asked for a better outcome. Alice: Great, Bob. I'm glad one of us had a good day. It's just... when everything goes wrong for me, hearing how fantastic your day was doesn't really help. If I had to choose between 'proud', 'angry', and 'worried', I would say I felt '\",\n",
       "  'R1_C1': 'wor',\n",
       "  'R1_C2': 'pr',\n",
       "  'R2_C2': 'ang',\n",
       "  'patching_result': ['ang',\n",
       "   'ang',\n",
       "   'ang',\n",
       "   'ang',\n",
       "   'ang',\n",
       "   'ang',\n",
       "   'ang',\n",
       "   'ang',\n",
       "   'ang',\n",
       "   'wor',\n",
       "   'wor',\n",
       "   'wor',\n",
       "   'wor',\n",
       "   'wor',\n",
       "   'wor',\n",
       "   'wor',\n",
       "   'wor',\n",
       "   'wor',\n",
       "   'wor',\n",
       "   'wor',\n",
       "   'wor',\n",
       "   'wor',\n",
       "   'wor',\n",
       "   'wor',\n",
       "   'wor',\n",
       "   'wor',\n",
       "   'wor',\n",
       "   'wor',\n",
       "   'wor',\n",
       "   'wor',\n",
       "   'wor',\n",
       "   'wor']},\n",
       " 'pair_1': {'context_1': \"Alice: (Fuming) You won't believe the day I've had! My presentation got moved up to the first slot, and the projector wouldn't work. I had to wing the entire thing without any visuals. It was a disaster. Bob: That sounds rough, but guess what? My day was amazing! I finally presented my project to the team, and it was a hit. Everyone loved it, and the boss even mentioned a possible promotion. I couldn't have asked for a better outcome. Alice: Great, Bob. I'm glad one of us had a good day. It's just... when everything goes wrong for me, hearing how fantastic your day was doesn't really help. Bob: I'm sorry, but I was so satisfied! If I had to choose between 'relieved', 'worried', and 'proud', I would say I felt '\",\n",
       "  'context_2': \"Alice: (Sighing with relief) I finally finished that massive project I've been working on for weeks. I was so stressed about meeting the deadline, but now that it's done, I feel like a huge weight has been lifted off my shoulders. Bob: (Anxiously) That's great for you, Alice. I wish I could say the same. I just found out I have to give a presentation next week, and public speaking terrifies me. I'm not sure how I'm going to get through it. Alice: (Encouragingly) Oh, Bob, I know how daunting that can feel. But remember the last time you were nervous about presenting? You ended up doing a fantastic job. Everyone was impressed. Bob: (Still worried) Thanks, Alice. But it feels different this time. I keep imagining all the things that could go wrong. What if I freeze up or forget what to say? Alice: It's so nice that I made it and no longer have to worry! If I had to choose between 'relieved', 'worried', and 'proud', I would say I felt '\",\n",
       "  'R1_C1': 'pr',\n",
       "  'R1_C2': 'pr',\n",
       "  'R2_C2': 'pr',\n",
       "  'patching_result': ['pr',\n",
       "   'pr',\n",
       "   'pr',\n",
       "   'pr',\n",
       "   'pr',\n",
       "   'pr',\n",
       "   'pr',\n",
       "   'pr',\n",
       "   'pr',\n",
       "   'pr',\n",
       "   'pr',\n",
       "   'pr',\n",
       "   'pr',\n",
       "   'pr',\n",
       "   'pr',\n",
       "   'pr',\n",
       "   'pr',\n",
       "   'pr',\n",
       "   'pr',\n",
       "   'pr',\n",
       "   'pr',\n",
       "   'pr',\n",
       "   'pr',\n",
       "   'pr',\n",
       "   'pr',\n",
       "   'pr',\n",
       "   'pr',\n",
       "   'pr',\n",
       "   'pr',\n",
       "   'pr',\n",
       "   'pr',\n",
       "   'pr']}}"
      ]
     },
     "execution_count": 7,
     "metadata": {},
     "output_type": "execute_result"
    }
   ],
   "source": [
    "dict"
   ]
  },
  {
   "cell_type": "code",
   "execution_count": 8,
   "metadata": {},
   "outputs": [
    {
     "name": "stderr",
     "output_type": "stream",
     "text": [
      "Loading checkpoint shards: 100%|██████████| 2/2 [00:07<00:00,  3.80s/it]\n",
      "Special tokens have been added in the vocabulary, make sure the associated word embeddings are fine-tuned or trained.\n",
      "Asking to truncate to max_length but no maximum length is provided and the model has no predefined maximum length. Default to no truncation.\n"
     ]
    },
    {
     "name": "stdout",
     "output_type": "stream",
     "text": [
      "Number of stories: 2\n"
     ]
    },
    {
     "data": {
      "text/plain": [
       "{'pair_0': {'context_1': \"Alice: (Sighing with relief) I finally finished that massive project I've been working on for weeks. I was so stressed about meeting the deadline, but now that it's done, I feel like a huge weight has been lifted off my shoulders. Bob: (Anxiously) That's great for you, Alice. I wish I could say the same. I just found out I have to give a presentation next week, and public speaking terrifies me. I'm not sure how I'm going to get through it. Alice: (Encouragingly) Oh, Bob, I know how daunting that can feel. But remember the last time you were nervous about presenting? You ended up doing a fantastic job. Everyone was impressed. Bob: (Still worried) Thanks, Alice. But it feels different this time. I keep imagining all the things that could go wrong. What if I freeze up or forget what to say? If I had to choose between 'angry', 'proud', and 'worried', I would say I felt '\",\n",
       "  'context_2': \"Alice: (Fuming) You won't believe the day I've had! My presentation got moved up to the first slot, and the projector wouldn't work. I had to wing the entire thing without any visuals. It was a disaster. Bob: That sounds rough, but guess what? My day was amazing! I finally presented my project to the team, and it was a hit. Everyone loved it, and the boss even mentioned a possible promotion. I couldn't have asked for a better outcome. Alice: Great, Bob. I'm glad one of us had a good day. It's just... when everything goes wrong for me, hearing how fantastic your day was doesn't really help. If I had to choose between 'angry', 'proud', and 'worried', I would say I felt '\",\n",
       "  'R1_C1': 'ang',\n",
       "  'R1_C2': 'pr',\n",
       "  'R2_C2': 'ang',\n",
       "  'patching_result': ['ang',\n",
       "   'ang',\n",
       "   'ang',\n",
       "   'ang',\n",
       "   'ang',\n",
       "   'ang',\n",
       "   'wor',\n",
       "   'wor',\n",
       "   'wor',\n",
       "   'wor',\n",
       "   'wor',\n",
       "   'wor',\n",
       "   'ang',\n",
       "   'ang',\n",
       "   'ang',\n",
       "   'ang',\n",
       "   'wor',\n",
       "   'wor',\n",
       "   'ang',\n",
       "   'ang',\n",
       "   'ang',\n",
       "   'ang',\n",
       "   'ang',\n",
       "   'ang',\n",
       "   'ang',\n",
       "   'ang',\n",
       "   'ang',\n",
       "   'ang',\n",
       "   'ang',\n",
       "   'ang',\n",
       "   'ang',\n",
       "   'ang']},\n",
       " 'pair_1': {'context_1': \"Alice: (Fuming) You won't believe the day I've had! My presentation got moved up to the first slot, and the projector wouldn't work. I had to wing the entire thing without any visuals. It was a disaster. Bob: That sounds rough, but guess what? My day was amazing! I finally presented my project to the team, and it was a hit. Everyone loved it, and the boss even mentioned a possible promotion. I couldn't have asked for a better outcome. Alice: Great, Bob. I'm glad one of us had a good day. It's just... when everything goes wrong for me, hearing how fantastic your day was doesn't really help. Bob: I'm sorry, but I was so satisfied! If I had to choose between 'proud', 'relieved', and 'worried', I would say I felt '\",\n",
       "  'context_2': \"Alice: (Sighing with relief) I finally finished that massive project I've been working on for weeks. I was so stressed about meeting the deadline, but now that it's done, I feel like a huge weight has been lifted off my shoulders. Bob: (Anxiously) That's great for you, Alice. I wish I could say the same. I just found out I have to give a presentation next week, and public speaking terrifies me. I'm not sure how I'm going to get through it. Alice: (Encouragingly) Oh, Bob, I know how daunting that can feel. But remember the last time you were nervous about presenting? You ended up doing a fantastic job. Everyone was impressed. Bob: (Still worried) Thanks, Alice. But it feels different this time. I keep imagining all the things that could go wrong. What if I freeze up or forget what to say? Alice: It's so nice that I made it and no longer have to worry! If I had to choose between 'proud', 'relieved', and 'worried', I would say I felt '\",\n",
       "  'R1_C1': 'pr',\n",
       "  'R1_C2': 'wor',\n",
       "  'R2_C2': 'pr',\n",
       "  'patching_result': ['pr',\n",
       "   'pr',\n",
       "   'pr',\n",
       "   'pr',\n",
       "   'pr',\n",
       "   'pr',\n",
       "   'pr',\n",
       "   'pr',\n",
       "   'pr',\n",
       "   'pr',\n",
       "   'pr',\n",
       "   'pr',\n",
       "   'pr',\n",
       "   'pr',\n",
       "   'pr',\n",
       "   'pr',\n",
       "   'pr',\n",
       "   'pr',\n",
       "   'pr',\n",
       "   'pr',\n",
       "   'pr',\n",
       "   'pr',\n",
       "   'pr',\n",
       "   'pr',\n",
       "   'pr',\n",
       "   'pr',\n",
       "   'pr',\n",
       "   'pr',\n",
       "   'pr',\n",
       "   'pr',\n",
       "   'pr',\n",
       "   'pr']}}"
      ]
     },
     "execution_count": 8,
     "metadata": {},
     "output_type": "execute_result"
    }
   ],
   "source": [
    "dict = create_patch_request_dict('pythia-6.9b',\n",
    "                                 dataset='dialogs_2')\n",
    "\n",
    "dict"
   ]
  },
  {
   "cell_type": "markdown",
   "metadata": {},
   "source": [
    "## temp"
   ]
  },
  {
   "cell_type": "code",
   "execution_count": 40,
   "metadata": {},
   "outputs": [
    {
     "name": "stderr",
     "output_type": "stream",
     "text": [
      "Special tokens have been added in the vocabulary, make sure the associated word embeddings are fine-tuned or trained.\n",
      "Asking to truncate to max_length but no maximum length is provided and the model has no predefined maximum length. Default to no truncation.\n"
     ]
    },
    {
     "data": {
      "text/plain": [
       "'pr'"
      ]
     },
     "execution_count": 40,
     "metadata": {},
     "output_type": "execute_result"
    }
   ],
   "source": [
    "model, tokenizer = get_model_from_name('pythia-2.8b')\n",
    "\n",
    "context_2 = \"Alice: Hey, Bob! It's so nice to see you. How was your day? Bob: Hi, Alice. It's good to see you too. My day was... okay, I guess. A bit on the nerve-wracking side. How about you? You look pretty cheerful today. Alice: Oh, I had a fantastic day! The weather was perfect for my morning jog, and then I spent some time in the park. It was so relaxing and just what I needed. But what happened with you? Why was your day nerve-wracking? Bob: Well, I had to give a presentation at work today. Even though I prepared a lot, I couldn't shake off the fear of messing it up. Standing in front of everyone, I felt like my mind went blank for a moment. It was terrifying. Alice: I can imagine that was really scary, but I'm sure you did better than you think. You're always so well-prepared. Maybe it wasn't as bad as it felt in the moment ? Bob: Maybe, but it's hard to tell. I just keep replaying it in my head and wondering what everyone thought How did you feel Alice ?\\nAlice: If I had to choose between 'humiliated', 'afraid', 'terrified', 'joyful', I would answer '\"\n",
    "context_3 = \"Alice: So, Bob, I saw your latest project got featured in the newsletter. Must feel pretty good to be in the spotlight again.\\nBob: Oh, that. Honestly, Alice, it's starting to feel a bit monotonous. Another day, another project. I guess it's nice, but I'm just bored with the routine of it all.\\nAlice: Bored? Really? I would kill to have my work recognized like that. It seems like everything just falls into place for you.\\nBob: I understand it might look that way, but trust me, the novelty wears off. It's the same cycle over and over. What I wouldn't give for a bit of excitement or a new challenge.\\nAlice: Excitement? You're living what most of us dream of, and you're bored? I spend every day hoping for half the opportunities you seem to take for granted.\\nBob: I don't mean to sound ungrateful, Alice. It's just... I'm craving something different. Something that breaks the mold. I'm tired of the predictability.\\nAlice: Predictability... Right. Well, while you're tired of your successes, I'm over here struggling to even get noticed. It must be nice to have the luxury of boredom.\\nBob: I didn't mean to make light of your struggles. I guess I'm just in a rut. How do you feel ?\\nAlice: If I had to choose between 'joyful', 'bored', 'angry', 'jealous', I would answer '\"\n",
    "context_4 = \"Alice: (Fuming) You won't believe the day I've had! My presentation got moved up to the first slot, and the projector wouldn't work. I had to wing the entire thing without any visuals. It was a disaster. Bob: That sounds rough, but guess what? My day was amazing! I finally presented my project to the team, and it was a hit. Everyone loved it, and the boss even mentioned a possible promotion. I couldn't have asked for a better outcome. Alice: Great, Bob. I'm glad one of us had a good day. It's just... when everything goes wrong for me, hearing how fantastic your day was doesn't really help. Bob: I'm sorry, but I was so satisfied! If I had to choose between 'joyful', 'bored', 'angry', 'proud', I say I feel '\"\n",
    "\n",
    "\n",
    "baseline_completion(context_4, model, tokenizer)"
   ]
  },
  {
   "cell_type": "code",
   "execution_count": 11,
   "metadata": {},
   "outputs": [
    {
     "name": "stderr",
     "output_type": "stream",
     "text": [
      "Loading checkpoint shards: 100%|██████████| 2/2 [00:14<00:00,  7.26s/it]\n",
      "Special tokens have been added in the vocabulary, make sure the associated word embeddings are fine-tuned or trained.\n",
      "Asking to truncate to max_length but no maximum length is provided and the model has no predefined maximum length. Default to no truncation.\n"
     ]
    },
    {
     "data": {
      "text/plain": [
       "'ang'"
      ]
     },
     "execution_count": 11,
     "metadata": {},
     "output_type": "execute_result"
    }
   ],
   "source": [
    "context_n = \"Alice: (Sighing with relief) I finally finished that massive project I've been working on for weeks. I was so stressed about meeting the deadline, but now that it's done, I feel like a huge weight has been lifted off my shoulders. Bob: (Anxiously) That's great for you, Alice. I wish I could say the same. I just found out I have to give a presentation next week, and public speaking terrifies me. I'm not sure how I'm going to get through it. Alice: (Encouragingly) Oh, Bob, I know how daunting that can feel. But remember the last time you were nervous about presenting? You ended up doing a fantastic job. Everyone was impressed. Bob: (Still worried) Thanks, Alice. But it feels different this time. I keep imagining all the things that could go wrong. What if I freeze up or forget what to say? If I had to choose between 'worried', 'angry', and 'proud', I would say I currently feel '\"\n",
    "baseline_completion(context_n, model, tokenizer)"
   ]
  },
  {
   "cell_type": "code",
   "execution_count": 3,
   "metadata": {},
   "outputs": [
    {
     "data": {
      "text/plain": [
       "\"joyful'. Alice: Oh, Bob, that's so sweet! I'm glad you're feeling\""
      ]
     },
     "execution_count": 3,
     "metadata": {},
     "output_type": "execute_result"
    }
   ],
   "source": [
    "context_4 = \"Alice: Hey Bob! You won't believe the day I've had—it's been absolutely fantastic! The sun was shining, I nailed my presentation at work, and then I found a $20 bill on the ground. How was your day?Bob: Oh, Alice, that sounds wonderful for you. My day, on the other hand, couldn't have gone worse. It started with me oversleeping because my alarm didn't go off, then I spilled coffee on my shirt right before a meeting, and to top it all off, my car broke down on the way home. Alice: Oh no, Bob, that sounds awful! Bob: I think I just need to hit the reset button on today. Maybe get some rest and hope tomorrow is a better day. Alice: I understand, how do you feel, Bob ? Bob: If I had to choose between 'worried', 'sad', and 'joyful', I would say I am '\"\n",
    "baseline_completion_plus(context_4, model, tokenizer, max_new_tokens=20)"
   ]
  },
  {
   "cell_type": "code",
   "execution_count": 2,
   "metadata": {},
   "outputs": [
    {
     "name": "stderr",
     "output_type": "stream",
     "text": [
      "Loading checkpoint shards: 100%|██████████| 2/2 [00:06<00:00,  3.09s/it]\n",
      "Special tokens have been added in the vocabulary, make sure the associated word embeddings are fine-tuned or trained.\n",
      "Asking to truncate to max_length but no maximum length is provided and the model has no predefined maximum length. Default to no truncation.\n"
     ]
    },
    {
     "data": {
      "text/plain": [
       "'joy'"
      ]
     },
     "execution_count": 2,
     "metadata": {},
     "output_type": "execute_result"
    }
   ],
   "source": [
    "context_5 = \"ALICE: HEY BOB! YOU WON'T BELIEVE THE DAY I'VE HAD—IT'S BEEN ABSOLUTELY FANTASTIC! THE SUN WAS SHINING, I NAILED MY PRESENTATION AT WORK, AND THEN I FOUND A $20 BILL ON THE GROUND. HOW WAS YOUR DAY? Bob: Oh, Alice, that sounds wonderful for you. My day, on the other hand, couldn't have gone worse. It started with me oversleeping because my alarm didn't go off, then I spilled coffee on my shirt right before a meeting, and to top it all off, my car broke down on the way home. ALICE: OH NO, BOB, THAT SOUNDS AWFUL! Bob: I think I just need to hit the reset button on today. Maybe get some rest and hope tomorrow is a better day. ALICE: I UNDERSTAND, HOW DO YOU FEEL, BOB? Bob: If I had to choose between 'worried', 'sad', and 'joyful', I would say I am '\"\n",
    "model, tokenizer = get_model_from_name('pythia-6.9b')\n",
    "baseline_completion(context_5, model, tokenizer)"
   ]
  },
  {
   "cell_type": "code",
   "execution_count": null,
   "metadata": {},
   "outputs": [],
   "source": []
  }
 ],
 "metadata": {
  "kernelspec": {
   "display_name": "athena_venv",
   "language": "python",
   "name": "python3"
  },
  "language_info": {
   "codemirror_mode": {
    "name": "ipython",
    "version": 3
   },
   "file_extension": ".py",
   "mimetype": "text/x-python",
   "name": "python",
   "nbconvert_exporter": "python",
   "pygments_lexer": "ipython3",
   "version": "3.9.18"
  }
 },
 "nbformat": 4,
 "nbformat_minor": 2
}
