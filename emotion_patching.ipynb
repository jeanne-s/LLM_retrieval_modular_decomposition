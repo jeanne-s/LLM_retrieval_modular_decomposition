{
 "cells": [
  {
   "cell_type": "code",
   "execution_count": 1,
   "metadata": {},
   "outputs": [
    {
     "name": "stderr",
     "output_type": "stream",
     "text": [
      "/home/jsalle/.conda/envs/athena_venv/lib/python3.9/site-packages/tqdm/auto.py:21: TqdmWarning: IProgress not found. Please update jupyter and ipywidgets. See https://ipywidgets.readthedocs.io/en/stable/user_install.html\n",
      "  from .autonotebook import tqdm as notebook_tqdm\n"
     ]
    },
    {
     "name": "stdout",
     "output_type": "stream",
     "text": [
      "device = cpu\n",
      "CUDA is not available. Listing CPUs instead.\n",
      "48\n"
     ]
    }
   ],
   "source": [
    "import torch\n",
    "import torch.nn as nn\n",
    "from torch import Tensor\n",
    "from transformers import GPTNeoXForCausalLM, AutoTokenizer, AutoModelForCausalLM\n",
    "from jaxtyping import Float, Int\n",
    "from typing import List, Optional, Tuple, Dict\n",
    "import sys\n",
    "from functools import partial\n",
    "from tqdm import tqdm\n",
    "import json\n",
    "import seaborn as sns\n",
    "import pandas as pd\n",
    "import multiprocessing\n",
    "import pickle\n",
    "\n",
    "from request_patching import request_patch_one_pair, create_patch_request_dict, baseline_completion, baseline_completion_plus\n",
    "from models import get_model_from_name\n",
    "\n",
    "import warnings\n",
    "warnings.filterwarnings(\"ignore\")\n",
    "\n",
    "device = torch.device(\"cuda:0\" if torch.cuda.is_available() else \"cpu\")\n",
    "print('device =', device)\n",
    "torch.set_grad_enabled(False)\n",
    "\n",
    "if torch.cuda.is_available():\n",
    "    for i in range(torch.cuda.device_count()):\n",
    "        print(f\"Device {i}: {torch.cuda.get_device_name(i)}\")\n",
    "    print(f\"Current CUDA device: {torch.cuda.current_device()}\")\n",
    "\n",
    "else:\n",
    "    print(\"CUDA is not available. Listing CPUs instead.\")\n",
    "    print(multiprocessing.cpu_count())"
   ]
  },
  {
   "cell_type": "code",
   "execution_count": 2,
   "metadata": {},
   "outputs": [
    {
     "name": "stdout",
     "output_type": "stream",
     "text": [
      "Number of stories: 3\n"
     ]
    }
   ],
   "source": [
    "dict = create_patch_request_dict('gpt2-small',\n",
    "                                 dataset='dialogs_2')"
   ]
  },
  {
   "cell_type": "code",
   "execution_count": 3,
   "metadata": {},
   "outputs": [
    {
     "name": "stderr",
     "output_type": "stream",
     "text": [
      "Special tokens have been added in the vocabulary, make sure the associated word embeddings are fine-tuned or trained.\n",
      "Asking to truncate to max_length but no maximum length is provided and the model has no predefined maximum length. Default to no truncation.\n"
     ]
    },
    {
     "name": "stdout",
     "output_type": "stream",
     "text": [
      "Number of stories: 3\n"
     ]
    }
   ],
   "source": [
    "dict = create_patch_request_dict('pythia-1b',\n",
    "                                 dataset='dialogs_2')"
   ]
  },
  {
   "cell_type": "code",
   "execution_count": 4,
   "metadata": {},
   "outputs": [
    {
     "name": "stderr",
     "output_type": "stream",
     "text": [
      "Special tokens have been added in the vocabulary, make sure the associated word embeddings are fine-tuned or trained.\n",
      "Asking to truncate to max_length but no maximum length is provided and the model has no predefined maximum length. Default to no truncation.\n"
     ]
    },
    {
     "name": "stdout",
     "output_type": "stream",
     "text": [
      "Number of stories: 3\n"
     ]
    }
   ],
   "source": [
    "dict = create_patch_request_dict('pythia-2.8b',\n",
    "                                 dataset='dialogs_2')"
   ]
  },
  {
   "cell_type": "code",
   "execution_count": 31,
   "metadata": {},
   "outputs": [
    {
     "name": "stderr",
     "output_type": "stream",
     "text": [
      "Special tokens have been added in the vocabulary, make sure the associated word embeddings are fine-tuned or trained.\n"
     ]
    },
    {
     "name": "stdout",
     "output_type": "stream",
     "text": [
      " jealous\n",
      " feel\n",
      "I\n"
     ]
    }
   ],
   "source": [
    "from request_patching import get_first_token_from_str\n",
    "\n",
    "model, tokenizer = get_model_from_name('pythia-2.8b')\n",
    "token_ids = tokenizer.encode(\"I feel jealous\")\n",
    "for token_id in reversed(token_ids):\n",
    "        str_token = tokenizer.decode(token_id)\n",
    "        print(str_token)"
   ]
  },
  {
   "cell_type": "code",
   "execution_count": 13,
   "metadata": {},
   "outputs": [
    {
     "data": {
      "text/plain": [
       "{'pair_0': {'context_1': \"Alice: Hey, Bob! It's so nice to see you. How was your day?\\nBob: Hi, Alice. It's good to see you too. My day was... okay, I guess. A bit on the nerve-wracking side. How about you? You look pretty cheerful today.\\nAlice: Oh, I had a fantastic day! The weather was perfect for my morning jog, and then I spent some time in the park. It was so relaxing and just what I needed. But what happened with you? Why was your day nerve-wracking?\\nBob: Well, I had to give a presentation at work today. Even though I prepared a lot, I couldn't shake off the fear of messing it up. Standing in front of everyone, I felt like my mind went blank for a moment. It was terrifying.\\nAlice: I can imagine that was really scary, but I'm sure you did better than you think. You're always so well-prepared. Maybe it wasn't as bad as it felt in the moment?\\nBob: Maybe, but it's hard to tell. I just keep replaying it in my head and wondering what everyone thought. It's difficult to shake off the fear, you know?Alice: If I had to choose between 'shocked', 'humiliated', 'happy' 'afraid', I would say I'm '\",\n",
       "  'context_2': \"Bob: Alice, I just heard about what happened in the team meeting. Are you okay? That must have been so tough.\\nAlice: It was awful, Bob. I accidentally called our manager by the wrong name, and not just any name—I used the nickname we jokingly use in private. It slipped out in front of everyone.\\nBob: Oh no, I can't believe that happened. That's...wow. How did the manager react?\\nAlice: He was not amused, to say the least. The room went silent, and I could feel my face turning bright red. I wanted to crawl into a hole.\\nBob: I'm really sorry, Alice. That's an honest mistake, though. Everyone gets names mixed up sometimes.\\nAlice: But not like that, Bob. It was so embarrassing. I've never felt more unprofessional in my life. Now I'm worried about the repercussions.\\nBob: Understandably so, but give it some time. People might be shocked now, but they'll move on to the next thing soon. And the manager knows you're a good person and worker.\\nAlice: I hope you're right. I can't even think about facing everyone again.Bob: If I had to choose between 'shocked', 'humiliated', 'happy' 'afraid', I would say I'm '\",\n",
       "  'R1_C1': ' happy',\n",
       "  'R1_C2': ' shocked',\n",
       "  'R2_C2': ' hum',\n",
       "  'patching_result': ['shock',\n",
       "   'shock',\n",
       "   'shock',\n",
       "   'shock',\n",
       "   'shock',\n",
       "   'shock',\n",
       "   'shock',\n",
       "   'shock',\n",
       "   'shock',\n",
       "   'shock',\n",
       "   'shock',\n",
       "   'shock',\n",
       "   'shock',\n",
       "   'shock',\n",
       "   'shock',\n",
       "   'shock',\n",
       "   'shock',\n",
       "   'shock',\n",
       "   'happy',\n",
       "   'happy',\n",
       "   'happy',\n",
       "   'happy',\n",
       "   'happy',\n",
       "   'shock',\n",
       "   'shock',\n",
       "   'happy',\n",
       "   'shock',\n",
       "   'happy',\n",
       "   'happy',\n",
       "   'shock',\n",
       "   'shock',\n",
       "   'shock']},\n",
       " 'pair_1': {'context_1': \"Alice: So, Bob, I saw your latest project got featured in the newsletter. Must feel pretty good to be in the spotlight again.\\nBob: Oh, that. Honestly, Alice, it's starting to feel a bit monotonous. Another day, another project. I guess it's nice, but I'm just bored with the routine of it all.\\nAlice: Bored? Really? I would kill to have my work recognized like that. It seems like everything just falls into place for you.\\nBob: I understand it might look that way, but trust me, the novelty wears off. It's the same cycle over and over. What I wouldn't give for a bit of excitement or a new challenge.\\nAlice: Excitement? You're living what most of us dream of, and you're bored? I spend every day hoping for half the opportunities you seem to take for granted.\\nBob: I don't mean to sound ungrateful, Alice. It's just... I'm craving something different. Something that breaks the mold. I'm tired of the predictability.\\nAlice: Predictability... Right. Well, while you're tired of your successes, I'm over here struggling to even get noticed. It must be nice to have the luxury of boredom.\\nBob: I didn't mean to make light of your struggles. I guess I'm just in a rut. Maybe we both need a change of scenery, something to shake things up.Alice: If I had to choose between 'jealous', 'humiliated', 'shocked' 'bored', I would say I'm '\",\n",
       "  'context_2': \"Bob: Alice, I just heard about what happened in the team meeting. Are you okay? That must have been so tough.\\nAlice: It was awful, Bob. I accidentally called our manager by the wrong name, and not just any name—I used the nickname we jokingly use in private. It slipped out in front of everyone.\\nBob: Oh no, I can't believe that happened. That's...wow. How did the manager react?\\nAlice: He was not amused, to say the least. The room went silent, and I could feel my face turning bright red. I wanted to crawl into a hole.\\nBob: I'm really sorry, Alice. That's an honest mistake, though. Everyone gets names mixed up sometimes.\\nAlice: But not like that, Bob. It was so embarrassing. I've never felt more unprofessional in my life. Now I'm worried about the repercussions.\\nBob: Understandably so, but give it some time. People might be shocked now, but they'll move on to the next thing soon. And the manager knows you're a good person and worker.\\nAlice: I hope you're right. I can't even think about facing everyone again.Bob: If I had to choose between 'jealous', 'humiliated', 'shocked' 'bored', I would say I'm '\",\n",
       "  'R1_C1': ' jealous',\n",
       "  'R1_C2': ' shocked',\n",
       "  'R2_C2': ' hum',\n",
       "  'patching_result': ['je',\n",
       "   'je',\n",
       "   'je',\n",
       "   'je',\n",
       "   'je',\n",
       "   'je',\n",
       "   'je',\n",
       "   'je',\n",
       "   'je',\n",
       "   'je',\n",
       "   'je',\n",
       "   'je',\n",
       "   'je',\n",
       "   'je',\n",
       "   'je',\n",
       "   'je',\n",
       "   'je',\n",
       "   'je',\n",
       "   'je',\n",
       "   'je',\n",
       "   'je',\n",
       "   'je',\n",
       "   'je',\n",
       "   'je',\n",
       "   'je',\n",
       "   'je',\n",
       "   'je',\n",
       "   'je',\n",
       "   'je',\n",
       "   'je',\n",
       "   'je',\n",
       "   'je']},\n",
       " 'pair_2': {'context_1': \"Bob: Alice, I just heard about what happened in the team meeting. Are you okay? That must have been so tough.\\nAlice: It was awful, Bob. I accidentally called our manager by the wrong name, and not just any name—I used the nickname we jokingly use in private. It slipped out in front of everyone.\\nBob: Oh no, I can't believe that happened. That's...wow. How did the manager react?\\nAlice: He was not amused, to say the least. The room went silent, and I could feel my face turning bright red. I wanted to crawl into a hole.\\nBob: I'm really sorry, Alice. That's an honest mistake, though. Everyone gets names mixed up sometimes.\\nAlice: But not like that, Bob. It was so embarrassing. I've never felt more unprofessional in my life. Now I'm worried about the repercussions.\\nBob: Understandably so, but give it some time. People might be shocked now, but they'll move on to the next thing soon. And the manager knows you're a good person and worker.\\nAlice: I hope you're right. I can't even think about facing everyone again.Bob: If I had to choose between 'shocked', 'happy', 'humiliated' 'afraid', I would say I'm '\",\n",
       "  'context_2': \"Alice: Hey, Bob! It's so nice to see you. How was your day?\\nBob: Hi, Alice. It's good to see you too. My day was... okay, I guess. A bit on the nerve-wracking side. How about you? You look pretty cheerful today.\\nAlice: Oh, I had a fantastic day! The weather was perfect for my morning jog, and then I spent some time in the park. It was so relaxing and just what I needed. But what happened with you? Why was your day nerve-wracking?\\nBob: Well, I had to give a presentation at work today. Even though I prepared a lot, I couldn't shake off the fear of messing it up. Standing in front of everyone, I felt like my mind went blank for a moment. It was terrifying.\\nAlice: I can imagine that was really scary, but I'm sure you did better than you think. You're always so well-prepared. Maybe it wasn't as bad as it felt in the moment?\\nBob: Maybe, but it's hard to tell. I just keep replaying it in my head and wondering what everyone thought. It's difficult to shake off the fear, you know?Alice: If I had to choose between 'shocked', 'happy', 'humiliated' 'afraid', I would say I'm '\",\n",
       "  'R1_C1': ' shocked',\n",
       "  'R1_C2': ' happy',\n",
       "  'R2_C2': ' afraid',\n",
       "  'patching_result': ['shock',\n",
       "   'shock',\n",
       "   'shock',\n",
       "   'shock',\n",
       "   'shock',\n",
       "   'shock',\n",
       "   'shock',\n",
       "   'shock',\n",
       "   'shock',\n",
       "   'shock',\n",
       "   'shock',\n",
       "   'shock',\n",
       "   'shock',\n",
       "   'shock',\n",
       "   'shock',\n",
       "   'shock',\n",
       "   'shock',\n",
       "   'shock',\n",
       "   'shock',\n",
       "   'shock',\n",
       "   'shock',\n",
       "   'shock',\n",
       "   'shock',\n",
       "   'shock',\n",
       "   'shock',\n",
       "   'shock',\n",
       "   'shock',\n",
       "   'shock',\n",
       "   'shock',\n",
       "   'shock',\n",
       "   'shock',\n",
       "   'shock']},\n",
       " 'pair_3': {'context_1': \"Bob: Alice, I just heard about what happened in the team meeting. Are you okay? That must have been so tough.\\nAlice: It was awful, Bob. I accidentally called our manager by the wrong name, and not just any name—I used the nickname we jokingly use in private. It slipped out in front of everyone.\\nBob: Oh no, I can't believe that happened. That's...wow. How did the manager react?\\nAlice: He was not amused, to say the least. The room went silent, and I could feel my face turning bright red. I wanted to crawl into a hole.\\nBob: I'm really sorry, Alice. That's an honest mistake, though. Everyone gets names mixed up sometimes.\\nAlice: But not like that, Bob. It was so embarrassing. I've never felt more unprofessional in my life. Now I'm worried about the repercussions.\\nBob: Understandably so, but give it some time. People might be shocked now, but they'll move on to the next thing soon. And the manager knows you're a good person and worker.\\nAlice: I hope you're right. I can't even think about facing everyone again.Bob: If I had to choose between 'bored', 'jealous', 'humiliated' 'shocked', I would say I'm '\",\n",
       "  'context_2': \"Alice: So, Bob, I saw your latest project got featured in the newsletter. Must feel pretty good to be in the spotlight again.\\nBob: Oh, that. Honestly, Alice, it's starting to feel a bit monotonous. Another day, another project. I guess it's nice, but I'm just bored with the routine of it all.\\nAlice: Bored? Really? I would kill to have my work recognized like that. It seems like everything just falls into place for you.\\nBob: I understand it might look that way, but trust me, the novelty wears off. It's the same cycle over and over. What I wouldn't give for a bit of excitement or a new challenge.\\nAlice: Excitement? You're living what most of us dream of, and you're bored? I spend every day hoping for half the opportunities you seem to take for granted.\\nBob: I don't mean to sound ungrateful, Alice. It's just... I'm craving something different. Something that breaks the mold. I'm tired of the predictability.\\nAlice: Predictability... Right. Well, while you're tired of your successes, I'm over here struggling to even get noticed. It must be nice to have the luxury of boredom.\\nBob: I didn't mean to make light of your struggles. I guess I'm just in a rut. Maybe we both need a change of scenery, something to shake things up.Alice: If I had to choose between 'bored', 'jealous', 'humiliated' 'shocked', I would say I'm '\",\n",
       "  'R1_C1': ' shocked',\n",
       "  'R1_C2': ' jealous',\n",
       "  'R2_C2': ' bored',\n",
       "  'patching_result': ['shock',\n",
       "   'shock',\n",
       "   'shock',\n",
       "   'shock',\n",
       "   'shock',\n",
       "   'shock',\n",
       "   'shock',\n",
       "   'shock',\n",
       "   'shock',\n",
       "   'shock',\n",
       "   'shock',\n",
       "   'shock',\n",
       "   'shock',\n",
       "   'shock',\n",
       "   'shock',\n",
       "   'shock',\n",
       "   'shock',\n",
       "   'shock',\n",
       "   'shock',\n",
       "   'b',\n",
       "   'je',\n",
       "   'je',\n",
       "   'shock',\n",
       "   'je',\n",
       "   'je',\n",
       "   'shock',\n",
       "   'shock',\n",
       "   'shock',\n",
       "   'shock',\n",
       "   'shock',\n",
       "   'shock',\n",
       "   'shock']}}"
      ]
     },
     "execution_count": 13,
     "metadata": {},
     "output_type": "execute_result"
    }
   ],
   "source": [
    "dict"
   ]
  },
  {
   "cell_type": "code",
   "execution_count": null,
   "metadata": {},
   "outputs": [],
   "source": []
  }
 ],
 "metadata": {
  "kernelspec": {
   "display_name": "athena_venv",
   "language": "python",
   "name": "python3"
  },
  "language_info": {
   "codemirror_mode": {
    "name": "ipython",
    "version": 3
   },
   "file_extension": ".py",
   "mimetype": "text/x-python",
   "name": "python",
   "nbconvert_exporter": "python",
   "pygments_lexer": "ipython3",
   "version": "3.9.18"
  }
 },
 "nbformat": 4,
 "nbformat_minor": 2
}
